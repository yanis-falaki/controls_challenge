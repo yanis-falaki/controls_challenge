{
 "cells": [
  {
   "cell_type": "markdown",
   "metadata": {},
   "source": [
    "The point of this notebook is to generate pretraining data using a P.I.D controller."
   ]
  },
  {
   "cell_type": "markdown",
   "metadata": {},
   "source": [
    "## Imports"
   ]
  },
  {
   "cell_type": "code",
   "execution_count": null,
   "metadata": {},
   "outputs": [],
   "source": [
    "import sys\n",
    "sys.path.append('../')\n",
    "\n",
    "from pathlib import Path\n",
    "\n",
    "from tinyphysics import TinyPhysicsModel, TinyPhysicsSimulator, CONTROL_START_IDX, CONTEXT_LENGTH\n",
    "from controllers import modified_pid\n",
    "from functools import partial"
   ]
  },
  {
   "cell_type": "code",
   "execution_count": 7,
   "metadata": {},
   "outputs": [],
   "source": [
    "def run_rollout(data_path, controller_type, model_path):\n",
    "    tinyphysicsmodel = TinyPhysicsModel(model_path, debug=False)\n",
    "    controller = controller_type()\n",
    "    sim = TinyPhysicsSimulator(tinyphysicsmodel, str(data_path), controller=controller, debug=False)\n",
    "    return sim.rollout(), sim"
   ]
  },
  {
   "cell_type": "code",
   "execution_count": null,
   "metadata": {},
   "outputs": [],
   "source": [
    "def generate_episode_data(sim: TinyPhysicsSimulator):\n",
    "    targets = sim.target_lataccel_history\n",
    "    actions = sim.action_history\n",
    "    results = sim.current_lataccel\n",
    "    model_state = sim.state_history\n",
    "    error_scan = sim.controller.error_scan # Should be 20 (CONTEXT_LENGTH) less than the rest of the data, however it's only logical to use after 100 - 20 idxs (CONTROL_START_IDX - CONTEXT_LENGTH)"
   ]
  },
  {
   "cell_type": "code",
   "execution_count": 8,
   "metadata": {},
   "outputs": [],
   "source": [
    "model_path = '../models/tinyphysics.onnx'\n",
    "data_path = Path('../data')\n",
    "num_segs = 5000\n",
    "\n",
    "files = sorted(data_path.iterdir())[:num_segs]"
   ]
  },
  {
   "cell_type": "code",
   "execution_count": null,
   "metadata": {},
   "outputs": [],
   "source": [
    "results, sim = run_rollout(files[0], modified_pid.Controller, model_path)"
   ]
  },
  {
   "cell_type": "code",
   "execution_count": null,
   "metadata": {},
   "outputs": [
    {
     "name": "stdout",
     "output_type": "stream",
     "text": [
      "600\n"
     ]
    }
   ],
   "source": []
  }
 ],
 "metadata": {
  "kernelspec": {
   "display_name": "venv",
   "language": "python",
   "name": "python3"
  },
  "language_info": {
   "codemirror_mode": {
    "name": "ipython",
    "version": 3
   },
   "file_extension": ".py",
   "mimetype": "text/x-python",
   "name": "python",
   "nbconvert_exporter": "python",
   "pygments_lexer": "ipython3",
   "version": "3.12.3"
  }
 },
 "nbformat": 4,
 "nbformat_minor": 2
}
