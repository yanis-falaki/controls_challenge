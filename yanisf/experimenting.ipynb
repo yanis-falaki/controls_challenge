{
 "cells": [
  {
   "cell_type": "code",
   "execution_count": 1,
   "metadata": {},
   "outputs": [
    {
     "name": "stderr",
     "output_type": "stream",
     "text": [
      "/home/yanisf/Documents/coding/controls_challenge/venv/lib/python3.12/site-packages/tqdm/auto.py:21: TqdmWarning: IProgress not found. Please update jupyter and ipywidgets. See https://ipywidgets.readthedocs.io/en/stable/user_install.html\n",
      "  from .autonotebook import tqdm as notebook_tqdm\n"
     ]
    }
   ],
   "source": [
    "import numpy as np\n",
    "import torch\n",
    "\n",
    "from torchrl.envs import ParallelEnv\n",
    "from torchrl.collectors import SyncDataCollector\n",
    "\n",
    "from miscellaneous.tiny_sim_wrapper import TinySimWrapper\n",
    "from miscellaneous.torchrl_ac import ActorCritic\n",
    "from miscellaneous.attention_ac import ActorCriticWithAttention"
   ]
  },
  {
   "cell_type": "code",
   "execution_count": 2,
   "metadata": {},
   "outputs": [],
   "source": [
    "device = torch.device(0) if torch.cuda.is_available() else torch.device(\"cpu\")"
   ]
  },
  {
   "cell_type": "code",
   "execution_count": 3,
   "metadata": {},
   "outputs": [],
   "source": [
    "#env = ParallelEnv(\n",
    "#    1,\n",
    "#    lambda: TinySimWrapper(model_path=\"../models/tinyphysics.onnx\", data_directory_path=\"../data\", device=device),\n",
    "#    device=device\n",
    "#)\n",
    "env = TinySimWrapper(model_path=\"../models/tinyphysics.onnx\", data_directory_path=\"../data\", device=device)"
   ]
  },
  {
   "cell_type": "code",
   "execution_count": 4,
   "metadata": {},
   "outputs": [],
   "source": [
    "in_features = env.observation_spec[\"current_state\"].shape[-1] + 1 # +1 for time\n",
    "num_actions = env.action_spec.shape[-1]\n",
    "low = env.action_spec_unbatched.space.low\n",
    "high = env.action_spec_unbatched.space.high\n",
    "\n",
    "#ac = ActorCritic(in_features, num_actions, low, high, 256, in_keys=[\"current_state\", \"time\"]).to(device)\n",
    "ac = ActorCriticWithAttention(num_actions, low, high).to(device)"
   ]
  },
  {
   "cell_type": "code",
   "execution_count": 5,
   "metadata": {},
   "outputs": [],
   "source": [
    "td = env.reset()"
   ]
  },
  {
   "cell_type": "code",
   "execution_count": 6,
   "metadata": {},
   "outputs": [
    {
     "data": {
      "text/plain": [
       "TensorDict(\n",
       "    fields={\n",
       "        current_state: Tensor(shape=torch.Size([5]), device=cuda:0, dtype=torch.float32, is_shared=True),\n",
       "        done: Tensor(shape=torch.Size([1]), device=cuda:0, dtype=torch.bool, is_shared=True),\n",
       "        future_plans: Tensor(shape=torch.Size([49, 4]), device=cuda:0, dtype=torch.float32, is_shared=True),\n",
       "        past_states: Tensor(shape=torch.Size([49, 5]), device=cuda:0, dtype=torch.float32, is_shared=True),\n",
       "        terminated: Tensor(shape=torch.Size([1]), device=cuda:0, dtype=torch.bool, is_shared=True),\n",
       "        time: Tensor(shape=torch.Size([1]), device=cuda:0, dtype=torch.float32, is_shared=True)},\n",
       "    batch_size=torch.Size([]),\n",
       "    device=cuda:0,\n",
       "    is_shared=True)"
      ]
     },
     "execution_count": 6,
     "metadata": {},
     "output_type": "execute_result"
    }
   ],
   "source": [
    "td"
   ]
  },
  {
   "cell_type": "code",
   "execution_count": 7,
   "metadata": {},
   "outputs": [
    {
     "name": "stdout",
     "output_type": "stream",
     "text": [
      "torch.Size([64])\n"
     ]
    }
   ],
   "source": [
    "action = ac(td)"
   ]
  },
  {
   "cell_type": "code",
   "execution_count": 8,
   "metadata": {},
   "outputs": [
    {
     "data": {
      "text/plain": [
       "TensorDict(\n",
       "    fields={\n",
       "        action: Tensor(shape=torch.Size([1]), device=cuda:0, dtype=torch.float32, is_shared=True),\n",
       "        current_state: Tensor(shape=torch.Size([5]), device=cuda:0, dtype=torch.float32, is_shared=True),\n",
       "        done: Tensor(shape=torch.Size([1]), device=cuda:0, dtype=torch.bool, is_shared=True),\n",
       "        future_plans: Tensor(shape=torch.Size([49, 4]), device=cuda:0, dtype=torch.float32, is_shared=True),\n",
       "        hidden: Tensor(shape=torch.Size([64]), device=cuda:0, dtype=torch.float32, is_shared=True),\n",
       "        loc: Tensor(shape=torch.Size([1]), device=cuda:0, dtype=torch.float32, is_shared=True),\n",
       "        past_states: Tensor(shape=torch.Size([49, 5]), device=cuda:0, dtype=torch.float32, is_shared=True),\n",
       "        sample_log_prob: Tensor(shape=torch.Size([]), device=cuda:0, dtype=torch.float32, is_shared=True),\n",
       "        scale: Tensor(shape=torch.Size([1]), device=cuda:0, dtype=torch.float32, is_shared=True),\n",
       "        state_value: Tensor(shape=torch.Size([1]), device=cuda:0, dtype=torch.float32, is_shared=True),\n",
       "        terminated: Tensor(shape=torch.Size([1]), device=cuda:0, dtype=torch.bool, is_shared=True),\n",
       "        time: Tensor(shape=torch.Size([1]), device=cuda:0, dtype=torch.float32, is_shared=True)},\n",
       "    batch_size=torch.Size([]),\n",
       "    device=cuda:0,\n",
       "    is_shared=True)"
      ]
     },
     "execution_count": 8,
     "metadata": {},
     "output_type": "execute_result"
    }
   ],
   "source": [
    "action"
   ]
  },
  {
   "cell_type": "code",
   "execution_count": 9,
   "metadata": {},
   "outputs": [],
   "source": [
    "new_td = env._step(action)"
   ]
  },
  {
   "cell_type": "code",
   "execution_count": 10,
   "metadata": {},
   "outputs": [
    {
     "data": {
      "text/plain": [
       "tensor([-12.0095], device='cuda:0')"
      ]
     },
     "execution_count": 10,
     "metadata": {},
     "output_type": "execute_result"
    }
   ],
   "source": [
    "new_td[\"reward\"]"
   ]
  }
 ],
 "metadata": {
  "kernelspec": {
   "display_name": "venv",
   "language": "python",
   "name": "python3"
  },
  "language_info": {
   "codemirror_mode": {
    "name": "ipython",
    "version": 3
   },
   "file_extension": ".py",
   "mimetype": "text/x-python",
   "name": "python",
   "nbconvert_exporter": "python",
   "pygments_lexer": "ipython3",
   "version": "3.12.3"
  }
 },
 "nbformat": 4,
 "nbformat_minor": 2
}
